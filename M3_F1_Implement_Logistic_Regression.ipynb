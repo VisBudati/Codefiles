{
  "cells": [
    {
      "cell_type": "markdown",
      "metadata": {
        "id": "view-in-github",
        "colab_type": "text"
      },
      "source": [
        "<a href=\"https://colab.research.google.com/github/VisBudati/testrepo/blob/main/M3_F1_Implement_Logistic_Regression.ipynb\" target=\"_parent\"><img src=\"https://colab.research.google.com/assets/colab-badge.svg\" alt=\"Open In Colab\"/></a>"
      ]
    },
    {
      "cell_type": "markdown",
      "metadata": {
        "id": "8DUs2tyc43tT"
      },
      "source": [
        "# Programming Assignment: Numerical Optimization for Logistic Regression.\n",
        "\n",
        "### Name: [Viswanadh Budati]\n"
      ]
    },
    {
      "cell_type": "markdown",
      "metadata": {
        "id": "HRyEWi2O43tV"
      },
      "source": [
        "## 0. You will do the following:\n",
        "\n",
        "1. Read the lecture note: [click here](https://github.com/wangshusen/DeepLearning/blob/master/LectureNotes/Logistic/paper/logistic.pdf)\n",
        "\n",
        "2. Read, complete, and run my code.\n",
        "\n",
        "3. **Implement mini-batch SGD** and evaluate the performance.\n",
        "\n",
        "4. Convert the .IPYNB file to .HTML file.\n",
        "\n",
        "    * The HTML file must contain **the code** and **the output after execution**.\n",
        "    \n",
        "    * Missing **the output after execution** will not be graded.\n",
        "    \n",
        "    \n",
        "5. Upload this .HTML file to your Google Drive, Dropbox, or your Github repo.  (If you submit the file to Google Drive or Dropbox, you must make the file \"open-access\". The delay caused by \"deny of access\" may result in late penalty.)\n",
        "\n",
        "6. On Canvas, submit the Google Drive/Dropbox/Github link to the HTML file.\n",
        "\n",
        "\n",
        "## Grading criteria:\n",
        "\n",
        "1. When computing the ```gradient``` and ```objective function value``` using a batch of samples, use **matrix-vector multiplication** rather than a FOR LOOP of **vector-vector multiplications**.\n",
        "\n",
        "2. Plot ```objective function value``` against ```epochs```. In the plot, compare GD, SGD, and MB-SGD (with $b=8$ and $b=64$). The plot must look reasonable."
      ]
    },
    {
      "cell_type": "code",
      "execution_count": null,
      "metadata": {
        "id": "9hNsI-iK43tV"
      },
      "outputs": [],
      "source": []
    },
    {
      "cell_type": "markdown",
      "metadata": {
        "id": "Lt3ephkC43tW"
      },
      "source": [
        "# 1. Data processing\n",
        "\n",
        "- Download the Diabete dataset from https://www.csie.ntu.edu.tw/~cjlin/libsvmtools/datasets/binary/diabetes\n",
        "- Load the data using sklearn.\n",
        "- Preprocess the data."
      ]
    },
    {
      "cell_type": "markdown",
      "metadata": {
        "id": "xNjdIw0E43tW"
      },
      "source": [
        "## 1.1. Load the data"
      ]
    },
    {
      "cell_type": "code",
      "execution_count": 2,
      "metadata": {
        "colab": {
          "base_uri": "https://localhost:8080/"
        },
        "id": "wIG7u5Q443tW",
        "outputId": "4b9f003f-7372-47a5-ab1c-a86c834772f2"
      },
      "outputs": [
        {
          "output_type": "stream",
          "name": "stdout",
          "text": [
            "Shape of x: (768, 8)\n",
            "Shape of y: (768,)\n"
          ]
        }
      ],
      "source": [
        "from sklearn import datasets\n",
        "import numpy\n",
        "\n",
        "x_sparse, y = datasets.load_svmlight_file('diabetes')\n",
        "x = x_sparse.todense()\n",
        "\n",
        "print('Shape of x: ' + str(x.shape))\n",
        "print('Shape of y: ' + str(y.shape))"
      ]
    },
    {
      "cell_type": "markdown",
      "metadata": {
        "id": "zZQ-2D3K43tX"
      },
      "source": [
        "## 1.2. Partition to training and test sets"
      ]
    },
    {
      "cell_type": "code",
      "execution_count": 3,
      "metadata": {
        "colab": {
          "base_uri": "https://localhost:8080/"
        },
        "id": "y92MwtFS43tX",
        "outputId": "71d0224b-3202-4768-ce8b-44640d2e6243"
      },
      "outputs": [
        {
          "output_type": "stream",
          "name": "stdout",
          "text": [
            "Shape of x_train: (640, 8)\n",
            "Shape of x_test: (128, 8)\n",
            "Shape of y_train: (640, 1)\n",
            "Shape of y_test: (128, 1)\n"
          ]
        }
      ],
      "source": [
        "# partition the data to training and test sets\n",
        "n = x.shape[0]\n",
        "n_train = 640\n",
        "n_test = n - n_train\n",
        "\n",
        "rand_indices = numpy.random.permutation(n)\n",
        "train_indices = rand_indices[0:n_train]\n",
        "test_indices = rand_indices[n_train:n]\n",
        "\n",
        "x_train = x[train_indices, :]\n",
        "x_test = x[test_indices, :]\n",
        "y_train = y[train_indices].reshape(n_train, 1)\n",
        "y_test = y[test_indices].reshape(n_test, 1)\n",
        "\n",
        "print('Shape of x_train: ' + str(x_train.shape))\n",
        "print('Shape of x_test: ' + str(x_test.shape))\n",
        "print('Shape of y_train: ' + str(y_train.shape))\n",
        "print('Shape of y_test: ' + str(y_test.shape))"
      ]
    },
    {
      "cell_type": "markdown",
      "metadata": {
        "id": "ZskVxrNR43tX"
      },
      "source": [
        "## 1.3. Feature scaling"
      ]
    },
    {
      "cell_type": "markdown",
      "metadata": {
        "id": "ArZCY29543tX"
      },
      "source": [
        "Use the standardization to trainsform both training and test features"
      ]
    },
    {
      "cell_type": "code",
      "execution_count": 4,
      "metadata": {
        "colab": {
          "base_uri": "https://localhost:8080/"
        },
        "id": "4rqcpVby43tX",
        "outputId": "ca766474-80f1-4639-ba3b-b63ceba18561"
      },
      "outputs": [
        {
          "output_type": "stream",
          "name": "stdout",
          "text": [
            "test mean = \n",
            "[[-0.01690221  0.00988445  0.06013552  0.09330381  0.0307541   0.04645791\n",
            "  -0.0666631   0.04569132]]\n",
            "test std = \n",
            "[[0.90286886 1.03319201 0.8240534  0.93173342 0.88715786 1.07384705\n",
            "  0.94189994 1.01087295]]\n"
          ]
        }
      ],
      "source": [
        "# Standardization\n",
        "import numpy\n",
        "\n",
        "# calculate mu and sig using the training set\n",
        "d = x_train.shape[1]\n",
        "mu = numpy.mean(x_train, axis=0).reshape(1, d)\n",
        "sig = numpy.std(x_train, axis=0).reshape(1, d)\n",
        "\n",
        "# transform the training features\n",
        "x_train = (x_train - mu) / (sig + 1E-6)\n",
        "\n",
        "# transform the test features\n",
        "x_test = (x_test - mu) / (sig + 1E-6)\n",
        "\n",
        "print('test mean = ')\n",
        "print(numpy.mean(x_test, axis=0))\n",
        "\n",
        "print('test std = ')\n",
        "print(numpy.std(x_test, axis=0))"
      ]
    },
    {
      "cell_type": "markdown",
      "metadata": {
        "id": "jIrP_h0a43tX"
      },
      "source": [
        "## 1.4. Add a dimension of all ones"
      ]
    },
    {
      "cell_type": "code",
      "execution_count": 5,
      "metadata": {
        "colab": {
          "base_uri": "https://localhost:8080/"
        },
        "id": "15YAjjAl43tX",
        "outputId": "fe36cd99-1dd2-4995-eba0-3975d08b4e1f"
      },
      "outputs": [
        {
          "output_type": "stream",
          "name": "stdout",
          "text": [
            "Shape of x_train: (640, 9)\n",
            "Shape of x_test: (128, 9)\n"
          ]
        }
      ],
      "source": [
        "n_train, d = x_train.shape\n",
        "x_train = numpy.concatenate((x_train, numpy.ones((n_train, 1))), axis=1)\n",
        "\n",
        "n_test, d = x_test.shape\n",
        "x_test = numpy.concatenate((x_test, numpy.ones((n_test, 1))), axis=1)\n",
        "\n",
        "print('Shape of x_train: ' + str(x_train.shape))\n",
        "print('Shape of x_test: ' + str(x_test.shape))"
      ]
    },
    {
      "cell_type": "markdown",
      "metadata": {
        "id": "am60DJLR43tY"
      },
      "source": [
        "# 2. Logistic regression model\n",
        "\n",
        "The objective function is $Q (w; X, y) = \\frac{1}{n} \\sum_{i=1}^n \\log \\Big( 1 + \\exp \\big( - y_i x_i^T w \\big) \\Big) + \\frac{\\lambda}{2} \\| w \\|_2^2 $."
      ]
    },
    {
      "cell_type": "code",
      "execution_count": 6,
      "metadata": {
        "id": "DeOeaZ4g43tY"
      },
      "outputs": [],
      "source": [
        "# Calculate the objective function value\n",
        "# Inputs:\n",
        "#     w: d-by-1 matrix\n",
        "#     x: n-by-d matrix\n",
        "#     y: n-by-1 matrix\n",
        "#     lam: scalar, the regularization parameter\n",
        "# Return:\n",
        "#     objective function value (scalar)\n",
        "def objective(w, x, y, lam):\n",
        "    n, d = x.shape\n",
        "    yx = numpy.multiply(y, x) # n-by-d matrix\n",
        "    yxw = numpy.dot(yx, w) # n-by-1 matrix\n",
        "    vec1 = numpy.exp(-yxw) # n-by-1 matrix\n",
        "    vec2 = numpy.log(1 + vec1) # n-by-1 matrix\n",
        "    loss = numpy.mean(vec2) # scalar\n",
        "    reg = lam / 2 * numpy.sum(w * w) # scalar\n",
        "    return loss + reg\n",
        ""
      ]
    },
    {
      "cell_type": "code",
      "execution_count": 7,
      "metadata": {
        "colab": {
          "base_uri": "https://localhost:8080/"
        },
        "id": "MCboqqnD43tY",
        "outputId": "22072087-2b76-40f7-ab64-1e1360c846b2"
      },
      "outputs": [
        {
          "output_type": "stream",
          "name": "stdout",
          "text": [
            "Initial objective function value = 0.6931471805599453\n"
          ]
        }
      ],
      "source": [
        "# initialize w\n",
        "d = x_train.shape[1]\n",
        "w = numpy.zeros((d, 1))\n",
        "\n",
        "# evaluate the objective function value at w\n",
        "lam = 1E-6\n",
        "objval0 = objective(w, x_train, y_train, lam)\n",
        "print('Initial objective function value = ' + str(objval0))"
      ]
    },
    {
      "cell_type": "markdown",
      "metadata": {
        "id": "xOzHf1TG43tY"
      },
      "source": [
        "# 3. Numerical optimization"
      ]
    },
    {
      "cell_type": "markdown",
      "metadata": {
        "id": "4oi8HL0R43tY"
      },
      "source": [
        "## 3.1. Gradient descent\n"
      ]
    },
    {
      "cell_type": "markdown",
      "metadata": {
        "id": "9EAH3lUK43tY"
      },
      "source": [
        "The gradient at $w$ is $g = - \\frac{1}{n} \\sum_{i=1}^n \\frac{y_i x_i }{1 + \\exp ( y_i x_i^T w)} + \\lambda w$"
      ]
    },
    {
      "cell_type": "code",
      "execution_count": 8,
      "metadata": {
        "id": "J4ylZhNR43tY"
      },
      "outputs": [],
      "source": [
        "# Calculate the gradient\n",
        "# Inputs:\n",
        "#     w: d-by-1 matrix\n",
        "#     x: n-by-d matrix\n",
        "#     y: n-by-1 matrix\n",
        "#     lam: scalar, the regularization parameter\n",
        "# Return:\n",
        "#     g: g: d-by-1 matrix, full gradient\n",
        "def gradient(w, x, y, lam):\n",
        "    n, d = x.shape\n",
        "    yx = numpy.multiply(y, x) # n-by-d matrix\n",
        "    yxw = numpy.dot(yx, w) # n-by-1 matrix\n",
        "    vec1 = numpy.exp(yxw) # n-by-1 matrix\n",
        "    vec2 = numpy.divide(yx, 1+vec1) # n-by-d matrix\n",
        "    vec3 = -numpy.mean(vec2, axis=0).reshape(d, 1) # d-by-1 matrix\n",
        "    g = vec3 + lam * w\n",
        "    return g"
      ]
    },
    {
      "cell_type": "code",
      "execution_count": 9,
      "metadata": {
        "id": "8R-4NcKk43tY"
      },
      "outputs": [],
      "source": [
        "# Gradient descent for solving logistic regression\n",
        "# Inputs:\n",
        "#     x: n-by-d matrix\n",
        "#     y: n-by-1 matrix\n",
        "#     lam: scalar, the regularization parameter\n",
        "#     stepsize: scalar\n",
        "#     max_iter: integer, the maximal iterations\n",
        "#     w: d-by-1 matrix, initialization of w\n",
        "# Return:\n",
        "#     w: d-by-1 matrix, the solution\n",
        "#     objvals: a record of each iteration's objective value\n",
        "def grad_descent(x, y, lam, stepsize, max_iter=100, w=None):\n",
        "    n, d = x.shape\n",
        "    objvals = numpy.zeros(max_iter) # store the objective values\n",
        "    if w is None:\n",
        "        w = numpy.zeros((d, 1)) # zero initialization\n",
        "\n",
        "    for t in range(max_iter):\n",
        "        objval = objective(w, x, y, lam)\n",
        "        objvals[t] = objval\n",
        "        print('Objective value at t=' + str(t) + ' is ' + str(objval))\n",
        "        g = gradient(w, x, y, lam)\n",
        "        w -= stepsize * g\n",
        "\n",
        "    return w, objvals"
      ]
    },
    {
      "cell_type": "markdown",
      "metadata": {
        "id": "iOISZvCl43tY"
      },
      "source": [
        "Run gradient descent."
      ]
    },
    {
      "cell_type": "code",
      "execution_count": 10,
      "metadata": {
        "colab": {
          "base_uri": "https://localhost:8080/"
        },
        "id": "vkWKphws43tY",
        "outputId": "193a0239-5832-411a-b851-d02c87f01fc2"
      },
      "outputs": [
        {
          "output_type": "stream",
          "name": "stdout",
          "text": [
            "Objective value at t=0 is 0.6931471805599453\n",
            "Objective value at t=1 is 0.5837791385916609\n",
            "Objective value at t=2 is 0.5393755263598892\n",
            "Objective value at t=3 is 0.5154778078275947\n",
            "Objective value at t=4 is 0.5005279574318872\n",
            "Objective value at t=5 is 0.49035940545951273\n",
            "Objective value at t=6 is 0.48307406173185347\n",
            "Objective value at t=7 is 0.4776672748367232\n",
            "Objective value at t=8 is 0.47355075759395887\n",
            "Objective value at t=9 is 0.4703547395267533\n",
            "Objective value at t=10 is 0.4678345127614305\n",
            "Objective value at t=11 is 0.46582172358462226\n",
            "Objective value at t=12 is 0.4641969870609264\n",
            "Objective value at t=13 is 0.4628735538322823\n",
            "Objective value at t=14 is 0.46178710424810593\n",
            "Objective value at t=15 is 0.46088912856177733\n",
            "Objective value at t=16 is 0.46014250008340096\n",
            "Objective value at t=17 is 0.4595184384725832\n",
            "Objective value at t=18 is 0.4589943809878827\n",
            "Objective value at t=19 is 0.45855246192418486\n",
            "Objective value at t=20 is 0.45817840837944523\n",
            "Objective value at t=21 is 0.4578607264718299\n",
            "Objective value at t=22 is 0.4575900936225755\n",
            "Objective value at t=23 is 0.4573588992565953\n",
            "Objective value at t=24 is 0.45716089386926106\n",
            "Objective value at t=25 is 0.456990918207387\n",
            "Objective value at t=26 is 0.4568446923584385\n",
            "Objective value at t=27 is 0.4567186501121956\n",
            "Objective value at t=28 is 0.4566098078690255\n",
            "Objective value at t=29 is 0.45651566014861317\n",
            "Objective value at t=30 is 0.4564340957526257\n",
            "Objective value at t=31 is 0.456363330089149\n",
            "Objective value at t=32 is 0.45630185023544223\n",
            "Objective value at t=33 is 0.45624837010846225\n",
            "Objective value at t=34 is 0.4562017937062446\n",
            "Objective value at t=35 is 0.4561611848314706\n",
            "Objective value at t=36 is 0.4561257420497281\n",
            "Objective value at t=37 is 0.4560947778966431\n",
            "Objective value at t=38 is 0.4560677015501765\n",
            "Objective value at t=39 is 0.45604400434155407\n",
            "Objective value at t=40 is 0.4560232476013123\n",
            "Objective value at t=41 is 0.45600505243378486\n",
            "Objective value at t=42 is 0.4559890910900421\n",
            "Objective value at t=43 is 0.4559750796703436\n",
            "Objective value at t=44 is 0.4559627719360048\n",
            "Objective value at t=45 is 0.4559519540498544\n",
            "Objective value at t=46 is 0.45594244009616397\n",
            "Objective value at t=47 is 0.45593406825667004\n",
            "Objective value at t=48 is 0.4559266975402447\n",
            "Objective value at t=49 is 0.4559202049809091\n",
            "Objective value at t=50 is 0.4559144832329364\n",
            "Objective value at t=51 is 0.45590943850336135\n",
            "Objective value at t=52 is 0.45590498877177926\n",
            "Objective value at t=53 is 0.4559010622552363\n",
            "Objective value at t=54 is 0.45589759608260416\n",
            "Objective value at t=55 is 0.45589453514831474\n",
            "Objective value at t=56 is 0.4558918311199293\n",
            "Objective value at t=57 is 0.4558894415778505\n",
            "Objective value at t=58 is 0.4558873292687251\n",
            "Objective value at t=59 is 0.45588546145679754\n",
            "Objective value at t=60 is 0.45588380935977585\n",
            "Objective value at t=61 is 0.4558823476577055\n",
            "Objective value at t=62 is 0.45588105406499796\n",
            "Objective value at t=63 is 0.455879908957151\n",
            "Objective value at t=64 is 0.4558788950448912\n",
            "Objective value at t=65 is 0.455877997089476\n",
            "Objective value at t=66 is 0.4558772016537605\n",
            "Objective value at t=67 is 0.4558764968843709\n",
            "Objective value at t=68 is 0.45587587232095955\n",
            "Objective value at t=69 is 0.4558753187290591\n",
            "Objective value at t=70 is 0.45587482795351814\n",
            "Objective value at t=71 is 0.4558743927899056\n",
            "Objective value at t=72 is 0.45587400687160856\n",
            "Objective value at t=73 is 0.4558736645706539\n",
            "Objective value at t=74 is 0.455873360910536\n",
            "Objective value at t=75 is 0.45587309148955646\n",
            "Objective value at t=76 is 0.45587285241337505\n",
            "Objective value at t=77 is 0.45587264023563334\n",
            "Objective value at t=78 is 0.4558724519056654\n",
            "Objective value at t=79 is 0.4558722847224232\n",
            "Objective value at t=80 is 0.4558721362938656\n",
            "Objective value at t=81 is 0.455872004501146\n",
            "Objective value at t=82 is 0.45587188746701995\n",
            "Objective value at t=83 is 0.4558717835279642\n",
            "Objective value at t=84 is 0.45587169120956395\n",
            "Objective value at t=85 is 0.455871609204776\n",
            "Objective value at t=86 is 0.4558715363547258\n",
            "Objective value at t=87 is 0.45587147163173997\n",
            "Objective value at t=88 is 0.4558714141243444\n",
            "Objective value at t=89 is 0.455871363024003\n",
            "Objective value at t=90 is 0.45587131761338534\n",
            "Objective value at t=91 is 0.4558712772559889\n",
            "Objective value at t=92 is 0.4558712413869558\n",
            "Objective value at t=93 is 0.45587120950494253\n",
            "Objective value at t=94 is 0.45587118116492387\n",
            "Objective value at t=95 is 0.4558711559718186\n",
            "Objective value at t=96 is 0.455871133574845\n",
            "Objective value at t=97 is 0.45587111366251964\n",
            "Objective value at t=98 is 0.4558710959582251\n",
            "Objective value at t=99 is 0.4558710802162833\n"
          ]
        }
      ],
      "source": [
        "lam = 1E-6\n",
        "stepsize = 1.0\n",
        "w, objvals_gd = grad_descent(x_train, y_train, lam, stepsize)"
      ]
    },
    {
      "cell_type": "markdown",
      "metadata": {
        "id": "HTwfjUUz43tZ"
      },
      "source": [
        "## 3.2. Stochastic gradient descent (SGD)\n",
        "\n",
        "Define $Q_i (w) = \\log \\Big( 1 + \\exp \\big( - y_i x_i^T w \\big) \\Big) + \\frac{\\lambda}{2} \\| w \\|_2^2 $.\n",
        "\n",
        "The stochastic gradient at $w$ is $g_i = \\frac{\\partial Q_i }{ \\partial w} = -\\frac{y_i x_i }{1 + \\exp ( y_i x_i^T w)} + \\lambda w$."
      ]
    },
    {
      "cell_type": "code",
      "execution_count": 11,
      "metadata": {
        "id": "yGkaH6pl43tZ"
      },
      "outputs": [],
      "source": [
        "# Calculate the objective Q_i and the gradient of Q_i\n",
        "# Inputs:\n",
        "#     w: d-by-1 matrix\n",
        "#     xi: 1-by-d matrix\n",
        "#     yi: scalar\n",
        "#     lam: scalar, the regularization parameter\n",
        "# Return:\n",
        "#     obj: scalar, the objective Q_i\n",
        "#     g: d-by-1 matrix, gradient of Q_i\n",
        "def stochastic_objective_gradient(w, xi, yi, lam):\n",
        "    yx = yi * xi # 1-by-d matrix\n",
        "    yxw = float(numpy.dot(yx, w)) # scalar\n",
        "\n",
        "    # calculate objective function Q_i\n",
        "    loss = numpy.log(1 + numpy.exp(-yxw)) # scalar\n",
        "    reg = lam / 2 * numpy.sum(w * w) # scalar\n",
        "    obj = loss + reg\n",
        "\n",
        "    # calculate stochastic gradient\n",
        "    g_loss = -yx.T / (1 + numpy.exp(yxw)) # d-by-1 matrix\n",
        "    g = g_loss + lam * w # d-by-1 matrix\n",
        "\n",
        "    return obj, g"
      ]
    },
    {
      "cell_type": "code",
      "execution_count": 12,
      "metadata": {
        "id": "iW1M2MCa43tZ"
      },
      "outputs": [],
      "source": [
        "# SGD for solving logistic regression\n",
        "# Inputs:\n",
        "#     x: n-by-d matrix\n",
        "#     y: n-by-1 matrix\n",
        "#     lam: scalar, the regularization parameter\n",
        "#     stepsize: scalar\n",
        "#     max_epoch: integer, the maximal epochs\n",
        "#     w: d-by-1 matrix, initialization of w\n",
        "# Return:\n",
        "#     w: the solution\n",
        "#     objvals: record of each iteration's objective value\n",
        "def sgd(x, y, lam, stepsize, max_epoch=100, w=None):\n",
        "    n, d = x.shape\n",
        "    objvals = numpy.zeros(max_epoch) # store the objective values\n",
        "    if w is None:\n",
        "        w = numpy.zeros((d, 1)) # zero initialization\n",
        "\n",
        "    for t in range(max_epoch):\n",
        "        # randomly shuffle the samples\n",
        "        rand_indices = numpy.random.permutation(n)\n",
        "        x_rand = x[rand_indices, :]\n",
        "        y_rand = y[rand_indices, :]\n",
        "\n",
        "        objval = 0 # accumulate the objective values\n",
        "        for i in range(n):\n",
        "            xi = x_rand[i, :] # 1-by-d matrix\n",
        "            yi = float(y_rand[i, :]) # scalar\n",
        "            obj, g = stochastic_objective_gradient(w, xi, yi, lam)\n",
        "            objval += obj\n",
        "            w -= stepsize * g\n",
        "\n",
        "        stepsize *= 0.9 # decrease step size\n",
        "        objval /= n\n",
        "        objvals[t] = objval\n",
        "        print('Objective value at epoch t=' + str(t) + ' is ' + str(objval))\n",
        "\n",
        "    return w, objvals"
      ]
    },
    {
      "cell_type": "markdown",
      "metadata": {
        "id": "wWyvzbfg43tZ"
      },
      "source": [
        "Run SGD."
      ]
    },
    {
      "cell_type": "code",
      "execution_count": 13,
      "metadata": {
        "colab": {
          "base_uri": "https://localhost:8080/"
        },
        "id": "RymnH39Q43tZ",
        "outputId": "a063c70a-7339-460e-e905-5363990e001f"
      },
      "outputs": [
        {
          "output_type": "stream",
          "name": "stdout",
          "text": [
            "Objective value at epoch t=0 is 0.5159813886480873\n",
            "Objective value at epoch t=1 is 0.5064369765394356\n",
            "Objective value at epoch t=2 is 0.4944664740474499\n",
            "Objective value at epoch t=3 is 0.4982117953549259\n",
            "Objective value at epoch t=4 is 0.48587889863430095\n",
            "Objective value at epoch t=5 is 0.4886619159967324\n",
            "Objective value at epoch t=6 is 0.48640472359376974\n",
            "Objective value at epoch t=7 is 0.47567734014333485\n",
            "Objective value at epoch t=8 is 0.4778164941151427\n",
            "Objective value at epoch t=9 is 0.48175727715551975\n",
            "Objective value at epoch t=10 is 0.476567407845715\n",
            "Objective value at epoch t=11 is 0.4740285369224638\n",
            "Objective value at epoch t=12 is 0.4697255242489994\n",
            "Objective value at epoch t=13 is 0.4692687895406033\n",
            "Objective value at epoch t=14 is 0.46998190721076094\n",
            "Objective value at epoch t=15 is 0.4691178806102969\n",
            "Objective value at epoch t=16 is 0.4661970886942811\n",
            "Objective value at epoch t=17 is 0.4661309947060627\n",
            "Objective value at epoch t=18 is 0.4644684642982325\n",
            "Objective value at epoch t=19 is 0.4644811496562329\n",
            "Objective value at epoch t=20 is 0.4634057485416011\n",
            "Objective value at epoch t=21 is 0.46277416661140636\n",
            "Objective value at epoch t=22 is 0.4626918222223894\n",
            "Objective value at epoch t=23 is 0.46178728681457815\n",
            "Objective value at epoch t=24 is 0.4611233037264807\n",
            "Objective value at epoch t=25 is 0.46026735671296864\n",
            "Objective value at epoch t=26 is 0.4600516248522129\n",
            "Objective value at epoch t=27 is 0.4599226979286895\n",
            "Objective value at epoch t=28 is 0.45949667576878034\n",
            "Objective value at epoch t=29 is 0.45881652338679\n",
            "Objective value at epoch t=30 is 0.4588793514355241\n",
            "Objective value at epoch t=31 is 0.4585201805652976\n",
            "Objective value at epoch t=32 is 0.4581674074528516\n",
            "Objective value at epoch t=33 is 0.45806123615946526\n",
            "Objective value at epoch t=34 is 0.45781360132545224\n",
            "Objective value at epoch t=35 is 0.45765540938900307\n",
            "Objective value at epoch t=36 is 0.4574298332600414\n",
            "Objective value at epoch t=37 is 0.45731242007927825\n",
            "Objective value at epoch t=38 is 0.45716363819170003\n",
            "Objective value at epoch t=39 is 0.45705111233576856\n",
            "Objective value at epoch t=40 is 0.4569191171682956\n",
            "Objective value at epoch t=41 is 0.45682766062783375\n",
            "Objective value at epoch t=42 is 0.456727104328566\n",
            "Objective value at epoch t=43 is 0.4566350201469354\n",
            "Objective value at epoch t=44 is 0.4565682378918505\n",
            "Objective value at epoch t=45 is 0.4564884858305357\n",
            "Objective value at epoch t=46 is 0.45643557756935327\n",
            "Objective value at epoch t=47 is 0.45637988692224163\n",
            "Objective value at epoch t=48 is 0.45632763016507216\n",
            "Objective value at epoch t=49 is 0.45628303754349864\n",
            "Objective value at epoch t=50 is 0.45624187059759624\n",
            "Objective value at epoch t=51 is 0.45620287088815237\n",
            "Objective value at epoch t=52 is 0.4561731542098032\n",
            "Objective value at epoch t=53 is 0.4561432835377796\n",
            "Objective value at epoch t=54 is 0.4561164780695524\n",
            "Objective value at epoch t=55 is 0.4560914532777379\n",
            "Objective value at epoch t=56 is 0.45606939036054095\n",
            "Objective value at epoch t=57 is 0.4560498466608921\n",
            "Objective value at epoch t=58 is 0.45603201872215965\n",
            "Objective value at epoch t=59 is 0.4560159295042733\n",
            "Objective value at epoch t=60 is 0.4560013080581409\n",
            "Objective value at epoch t=61 is 0.4559884277148433\n",
            "Objective value at epoch t=62 is 0.45597686167028656\n",
            "Objective value at epoch t=63 is 0.45596633765291444\n",
            "Objective value at epoch t=64 is 0.45595680811308475\n",
            "Objective value at epoch t=65 is 0.45594826542614797\n",
            "Objective value at epoch t=66 is 0.4559405573817809\n",
            "Objective value at epoch t=67 is 0.4559336339274885\n",
            "Objective value at epoch t=68 is 0.45592734966169746\n",
            "Objective value at epoch t=69 is 0.4559217562535993\n",
            "Objective value at epoch t=70 is 0.45591668268823005\n",
            "Objective value at epoch t=71 is 0.45591217291647046\n",
            "Objective value at epoch t=72 is 0.45590805410168295\n",
            "Objective value at epoch t=73 is 0.45590437608800266\n",
            "Objective value at epoch t=74 is 0.4559010517285735\n",
            "Objective value at epoch t=75 is 0.4558980723993395\n",
            "Objective value at epoch t=76 is 0.4558953875203078\n",
            "Objective value at epoch t=77 is 0.4558929577273793\n",
            "Objective value at epoch t=78 is 0.4558907747734661\n",
            "Objective value at epoch t=79 is 0.45588881196308373\n",
            "Objective value at epoch t=80 is 0.45588706026143466\n",
            "Objective value at epoch t=81 is 0.4558854599586034\n",
            "Objective value at epoch t=82 is 0.45588404077179223\n",
            "Objective value at epoch t=83 is 0.4558827544268403\n",
            "Objective value at epoch t=84 is 0.45588159345012597\n",
            "Objective value at epoch t=85 is 0.45588055464851146\n",
            "Objective value at epoch t=86 is 0.4558796151803063\n",
            "Objective value at epoch t=87 is 0.45587877150591394\n",
            "Objective value at epoch t=88 is 0.45587801118682825\n",
            "Objective value at epoch t=89 is 0.45587732743776865\n",
            "Objective value at epoch t=90 is 0.45587671180898565\n",
            "Objective value at epoch t=91 is 0.45587615756850547\n",
            "Objective value at epoch t=92 is 0.4558756593556188\n",
            "Objective value at epoch t=93 is 0.4558752104333549\n",
            "Objective value at epoch t=94 is 0.45587480660127894\n",
            "Objective value at epoch t=95 is 0.45587444282413553\n",
            "Objective value at epoch t=96 is 0.45587411580690895\n",
            "Objective value at epoch t=97 is 0.45587382147282074\n",
            "Objective value at epoch t=98 is 0.4558735564144355\n",
            "Objective value at epoch t=99 is 0.4558733176742102\n"
          ]
        }
      ],
      "source": [
        "lam = 1E-6\n",
        "stepsize = 0.1\n",
        "w, objvals_sgd = sgd(x_train, y_train, lam, stepsize)"
      ]
    },
    {
      "cell_type": "markdown",
      "metadata": {
        "id": "IKJPBP6N43tZ"
      },
      "source": [
        "# 4. Compare GD with SGD\n",
        "\n",
        "Plot objective function values against epochs."
      ]
    },
    {
      "cell_type": "code",
      "execution_count": 16,
      "metadata": {
        "colab": {
          "base_uri": "https://localhost:8080/",
          "height": 407
        },
        "id": "eTpR3ToN43tZ",
        "outputId": "d235785b-0e8b-4a19-f9a4-b4c368f2f8dd"
      },
      "outputs": [
        {
          "output_type": "display_data",
          "data": {
            "text/plain": [
              "<Figure size 600x400 with 1 Axes>"
            ],
            "image/png": "[encoded data removed]"
          },
          "metadata": {}
        }
      ],
      "source": [
        "import matplotlib.pyplot as plt\n",
        "%matplotlib inline\n",
        "\n",
        "fig = plt.figure(figsize=(6, 4))\n",
        "\n",
        "epochs_gd = range(len(objvals_gd))\n",
        "epochs_sgd = range(len(objvals_sgd))\n",
        "\n",
        "line0, = plt.plot(epochs_gd, objvals_gd, '--b', linewidth=4)\n",
        "line1, = plt.plot(epochs_sgd, objvals_sgd, '-r', linewidth=2)\n",
        "plt.xlabel('Epochs', fontsize=20)\n",
        "plt.ylabel('Objective Value', fontsize=20)\n",
        "plt.xticks(fontsize=16)\n",
        "plt.yticks(fontsize=16)\n",
        "plt.legend([line0, line1], ['GD', 'SGD'], fontsize=20)\n",
        "plt.tight_layout()\n",
        "plt.show()\n",
        "fig.savefig('compare_gd_sgd.pdf', format='pdf', dpi=1200)"
      ]
    },
    {
      "cell_type": "markdown",
      "metadata": {
        "id": "m3DvVEfg43tZ"
      },
      "source": [
        "# 5. Prediction"
      ]
    },
    {
      "cell_type": "code",
      "execution_count": 17,
      "metadata": {
        "id": "vbPLCEDF43tZ"
      },
      "outputs": [],
      "source": [
        "# Predict class label\n",
        "# Inputs:\n",
        "#     w: d-by-1 matrix\n",
        "#     X: m-by-d matrix\n",
        "# Return:\n",
        "#     f: m-by-1 matrix, the predictions\n",
        "def predict(w, X):\n",
        "    xw = numpy.dot(X, w)\n",
        "    f = numpy.sign(xw)\n",
        "    return f"
      ]
    },
    {
      "cell_type": "code",
      "execution_count": 18,
      "metadata": {
        "colab": {
          "base_uri": "https://localhost:8080/"
        },
        "id": "LszgZZK843tZ",
        "outputId": "589b99ad-f68b-486a-9a01-9b70024ac7e4"
      },
      "outputs": [
        {
          "output_type": "stream",
          "name": "stdout",
          "text": [
            "Training classification error is 0.21875\n"
          ]
        }
      ],
      "source": [
        "# evaluate training error\n",
        "f_train = predict(w, x_train)\n",
        "diff = numpy.abs(f_train - y_train) / 2\n",
        "error_train = numpy.mean(diff)\n",
        "print('Training classification error is ' + str(error_train))"
      ]
    },
    {
      "cell_type": "code",
      "execution_count": 19,
      "metadata": {
        "colab": {
          "base_uri": "https://localhost:8080/"
        },
        "id": "E624kBKB43tZ",
        "outputId": "aeef7d27-606c-431d-a2c0-7da4626375ba"
      },
      "outputs": [
        {
          "output_type": "stream",
          "name": "stdout",
          "text": [
            "Test classification error is 0.25\n"
          ]
        }
      ],
      "source": [
        "# evaluate test error\n",
        "f_test = predict(w, x_test)\n",
        "diff = numpy.abs(f_test - y_test) / 2\n",
        "error_test = numpy.mean(diff)\n",
        "print('Test classification error is ' + str(error_test))"
      ]
    },
    {
      "cell_type": "markdown",
      "metadata": {
        "id": "TQVLkLBU43ta"
      },
      "source": [
        "# 6. Mini-batch SGD (fill the code)\n",
        "\n"
      ]
    },
    {
      "cell_type": "markdown",
      "metadata": {
        "id": "h8fE5uhI43ta"
      },
      "source": [
        "## 6.1. Compute the objective $Q_I$ and its gradient using a batch of samples\n",
        "\n",
        "Define $Q_I (w) = \\frac{1}{b} \\sum_{i \\in I} \\log \\Big( 1 + \\exp \\big( - y_i x_i^T w \\big) \\Big) + \\frac{\\lambda}{2} \\| w \\|_2^2 $, where $I$ is a set containing $b$ indices randomly drawn from $\\{ 1, \\cdots , n \\}$ without replacement.\n",
        "\n",
        "The stochastic gradient at $w$ is $g_I = \\frac{\\partial Q_I }{ \\partial w} = \\frac{1}{b} \\sum_{i \\in I} \\frac{- y_i x_i }{1 + \\exp ( y_i x_i^T w)} + \\lambda w$."
      ]
    },
    {
      "cell_type": "code",
      "execution_count": 20,
      "metadata": {
        "id": "dkHO4Mml43ta"
      },
      "outputs": [],
      "source": [
        "# Calculate the objective Q_I and the gradient of Q_I\n",
        "# Inputs:\n",
        "#     w: d-by-1 matrix\n",
        "#     xi: b-by-d matrix\n",
        "#     yi: b-by-1 matrix\n",
        "#     lam: scalar, the regularization parameter\n",
        "#     b: integer, the batch size\n",
        "# Return:\n",
        "#     obj: scalar, the objective Q_i\n",
        "#     g: d-by-1 matrix, gradient of Q_i\n",
        "def mb_stochastic_objective_gradient(w, xi, yi, lam, b):\n",
        "    yx = numpy.multiply(yi, xi)\n",
        "    yxw = numpy.dot(yx, w).reshape(b, 1)\n",
        "    loss = numpy.mean(numpy.log(1 + numpy.exp(-yxw)), axis=0)\n",
        "    reg = lam / 2 * numpy.sum(w * w)\n",
        "    obj = loss + reg\n",
        "\n",
        "    gradient_yx = numpy.multiply(yi, xi)\n",
        "    gradient_yxw = numpy.dot(gradient_yx, w)\n",
        "    gradient_loss = numpy.mean((-numpy.divide(gradient_yx, 1 + (numpy.exp(gradient_yxw)))), axis=0).reshape(d, 1)\n",
        "    gradient_reg = lam * w\n",
        "    g = gradient_loss + gradient_reg\n",
        "\n",
        "    return obj, g"
      ]
    },
    {
      "cell_type": "markdown",
      "metadata": {
        "id": "C1i0qgfb43ta"
      },
      "source": [
        "## 6.2. Implement mini-batch SGD\n",
        "\n",
        "Hints:\n",
        "1. In every epoch, randomly permute the $n$ samples (just like SGD).\n",
        "2. Each epoch has $\\frac{n}{b}$ iterations. In every iteration, use $b$ samples, and compute the gradient and objective using the ``mb_stochastic_objective_gradient`` function. In the next iteration, use the next $b$ samples, and so on.\n"
      ]
    },
    {
      "cell_type": "code",
      "execution_count": 21,
      "metadata": {
        "id": "WDtnP4Yp43ta"
      },
      "outputs": [],
      "source": [
        "# Mini-Batch SGD for solving logistic regression\n",
        "# Inputs:\n",
        "#     x: n-by-d matrix\n",
        "#     y: n-by-1 matrix\n",
        "#     lam: scalar, the regularization parameter\n",
        "#     b: integer, the batch size\n",
        "#     stepsize: scalar\n",
        "#     max_epoch: integer, the maximal epochs\n",
        "#     w: d-by-1 matrix, initialization of w\n",
        "# Return:\n",
        "#     w: the solution\n",
        "#     objvals: record of each iteration's objective value\n",
        "def mb_sgd(x, y, lam, b, stepsize, max_epoch=100, w=None):\n",
        "    objvals = numpy.zeros(max_epoch)\n",
        "    n, d = x.shape\n",
        "\n",
        "    if w is None:\n",
        "        w = numpy.zeros((d, 1))\n",
        "\n",
        "    for t in range(max_epoch):\n",
        "        random_indices = numpy.random.permutation(n)\n",
        "        random_x = x[random_indices, :]\n",
        "        random_y = y[random_indices, :]\n",
        "        objval = 0\n",
        "\n",
        "        for i in range(0, n, b):\n",
        "            xi = random_x[i:i+b, :]\n",
        "            yi = random_y[i:i+b, :]\n",
        "            obj, g_w = mb_stochastic_objective_gradient(w, xi, yi, lam, b)\n",
        "            w -= stepsize * g_w\n",
        "            objval += obj\n",
        "        stepsize *= 0.91\n",
        "        objvals[t] = objval * b / n\n",
        "        print('Objective value at epoch t=' + str(t) + ' is ' + str(objvals[t]))\n",
        "\n",
        "    return w, objvals"
      ]
    },
    {
      "cell_type": "markdown",
      "metadata": {
        "id": "hTiu8vj-43tf"
      },
      "source": [
        "## 6.3. Run MB-SGD"
      ]
    },
    {
      "cell_type": "code",
      "execution_count": 25,
      "metadata": {
        "colab": {
          "base_uri": "https://localhost:8080/"
        },
        "id": "DK5fH3jT43tg",
        "outputId": "01b27297-8765-4e23-c1dc-6fa53c560c9d"
      },
      "outputs": [
        {
          "output_type": "stream",
          "name": "stdout",
          "text": [
            "Objective value at epoch t=0 is 0.5285482163313\n",
            "Objective value at epoch t=1 is 0.47242043760060753\n",
            "Objective value at epoch t=2 is 0.4652503004029075\n",
            "Objective value at epoch t=3 is 0.46218680115077826\n",
            "Objective value at epoch t=4 is 0.4628660452428668\n",
            "Objective value at epoch t=5 is 0.4615307038410725\n",
            "Objective value at epoch t=6 is 0.46119158904595936\n",
            "Objective value at epoch t=7 is 0.4607160226610866\n",
            "Objective value at epoch t=8 is 0.4601539220147924\n",
            "Objective value at epoch t=9 is 0.45962306252986573\n",
            "Objective value at epoch t=10 is 0.45948288712574364\n",
            "Objective value at epoch t=11 is 0.45927177467059205\n",
            "Objective value at epoch t=12 is 0.4586480926516187\n",
            "Objective value at epoch t=13 is 0.4587203120847305\n",
            "Objective value at epoch t=14 is 0.4586722766874648\n",
            "Objective value at epoch t=15 is 0.458284532557019\n",
            "Objective value at epoch t=16 is 0.4580523118343301\n",
            "Objective value at epoch t=17 is 0.4577800858832803\n",
            "Objective value at epoch t=18 is 0.45767106500433313\n",
            "Objective value at epoch t=19 is 0.4573080400268245\n",
            "Objective value at epoch t=20 is 0.4573737885289167\n",
            "Objective value at epoch t=21 is 0.45712344779388453\n",
            "Objective value at epoch t=22 is 0.4569848842251211\n",
            "Objective value at epoch t=23 is 0.45699700759139067\n",
            "Objective value at epoch t=24 is 0.45683211505561705\n",
            "Objective value at epoch t=25 is 0.4568891464973988\n",
            "Objective value at epoch t=26 is 0.4566813871917937\n",
            "Objective value at epoch t=27 is 0.4565864398133802\n",
            "Objective value at epoch t=28 is 0.4565976936670853\n",
            "Objective value at epoch t=29 is 0.4564927719058338\n",
            "Objective value at epoch t=30 is 0.45644609108119594\n",
            "Objective value at epoch t=31 is 0.4563765526482963\n",
            "Objective value at epoch t=32 is 0.45634124318193575\n",
            "Objective value at epoch t=33 is 0.45629850143963957\n",
            "Objective value at epoch t=34 is 0.45628193768325964\n",
            "Objective value at epoch t=35 is 0.4562677192201958\n",
            "Objective value at epoch t=36 is 0.4561790497043504\n",
            "Objective value at epoch t=37 is 0.4561853023129486\n",
            "Objective value at epoch t=38 is 0.45616689891989604\n",
            "Objective value at epoch t=39 is 0.45611703548981125\n",
            "Objective value at epoch t=40 is 0.4561123958399348\n",
            "Objective value at epoch t=41 is 0.45606813267994717\n",
            "Objective value at epoch t=42 is 0.4560540005472548\n",
            "Objective value at epoch t=43 is 0.45603725365787334\n",
            "Objective value at epoch t=44 is 0.45602747152837103\n",
            "Objective value at epoch t=45 is 0.456027308078186\n",
            "Objective value at epoch t=46 is 0.45598776166959476\n",
            "Objective value at epoch t=47 is 0.45600291281786925\n",
            "Objective value at epoch t=48 is 0.4559817875865614\n",
            "Objective value at epoch t=49 is 0.4559652554756971\n",
            "Objective value at epoch t=50 is 0.4559632446014352\n",
            "Objective value at epoch t=51 is 0.45595093365207406\n",
            "Objective value at epoch t=52 is 0.45593899931994253\n",
            "Objective value at epoch t=53 is 0.4559384885537507\n",
            "Objective value at epoch t=54 is 0.45592924840252225\n",
            "Objective value at epoch t=55 is 0.4559288228422466\n",
            "Objective value at epoch t=56 is 0.4559214014203838\n",
            "Objective value at epoch t=57 is 0.4559176450487853\n",
            "Objective value at epoch t=58 is 0.455915950256509\n",
            "Objective value at epoch t=59 is 0.4559104875988679\n",
            "Objective value at epoch t=60 is 0.45590581126718266\n",
            "Objective value at epoch t=61 is 0.45590221081514076\n",
            "Objective value at epoch t=62 is 0.45589983545738366\n",
            "Objective value at epoch t=63 is 0.45589748968615285\n",
            "Objective value at epoch t=64 is 0.4558931124395877\n",
            "Objective value at epoch t=65 is 0.455890687135404\n",
            "Objective value at epoch t=66 is 0.45588995553244027\n",
            "Objective value at epoch t=67 is 0.45588969489749703\n",
            "Objective value at epoch t=68 is 0.45588706397756107\n",
            "Objective value at epoch t=69 is 0.455885566518105\n",
            "Objective value at epoch t=70 is 0.45588462114576034\n",
            "Objective value at epoch t=71 is 0.4558829745352213\n",
            "Objective value at epoch t=72 is 0.45588286138200784\n",
            "Objective value at epoch t=73 is 0.4558813780086809\n",
            "Objective value at epoch t=74 is 0.4558813972236324\n",
            "Objective value at epoch t=75 is 0.4558798831675709\n",
            "Objective value at epoch t=76 is 0.45587989875867746\n",
            "Objective value at epoch t=77 is 0.4558789342667818\n",
            "Objective value at epoch t=78 is 0.45587764862943453\n",
            "Objective value at epoch t=79 is 0.4558773409376867\n",
            "Objective value at epoch t=80 is 0.45587661947186964\n",
            "Objective value at epoch t=81 is 0.4558761160156103\n",
            "Objective value at epoch t=82 is 0.455875557251757\n",
            "Objective value at epoch t=83 is 0.4558754997108812\n",
            "Objective value at epoch t=84 is 0.4558752502303446\n",
            "Objective value at epoch t=85 is 0.4558745281184849\n",
            "Objective value at epoch t=86 is 0.45587440167399434\n",
            "Objective value at epoch t=87 is 0.45587432245005155\n",
            "Objective value at epoch t=88 is 0.4558743489493481\n",
            "Objective value at epoch t=89 is 0.4558737972639692\n",
            "Objective value at epoch t=90 is 0.4558734555501787\n",
            "Objective value at epoch t=91 is 0.45587315764667913\n",
            "Objective value at epoch t=92 is 0.4558733092631121\n",
            "Objective value at epoch t=93 is 0.4558731408245268\n",
            "Objective value at epoch t=94 is 0.4558729539104311\n",
            "Objective value at epoch t=95 is 0.4558727926829939\n",
            "Objective value at epoch t=96 is 0.4558726240863016\n",
            "Objective value at epoch t=97 is 0.45587254262459087\n",
            "Objective value at epoch t=98 is 0.4558725476824962\n",
            "Objective value at epoch t=99 is 0.45587234848525426\n"
          ]
        }
      ],
      "source": [
        "# MB-SGD with batch size b=8\n",
        "lam = 1E-6 # do not change\n",
        "b = 8 # do not change\n",
        "stepsize = 0.11 # you must tune this parameter\n",
        "\n",
        "w, objvals_mbsgd8 = mb_sgd(x_train, y_train, lam, b, stepsize)"
      ]
    },
    {
      "cell_type": "code",
      "execution_count": 26,
      "metadata": {
        "colab": {
          "base_uri": "https://localhost:8080/"
        },
        "id": "U8cBvCvc43tg",
        "outputId": "f5994638-e148-4789-c195-3163e6248069"
      },
      "outputs": [
        {
          "output_type": "stream",
          "name": "stdout",
          "text": [
            "Objective value at epoch t=0 is 0.5741978715488947\n",
            "Objective value at epoch t=1 is 0.4918491937209829\n",
            "Objective value at epoch t=2 is 0.4756315338761589\n",
            "Objective value at epoch t=3 is 0.46821292420650895\n",
            "Objective value at epoch t=4 is 0.463515477375522\n",
            "Objective value at epoch t=5 is 0.4611511710809797\n",
            "Objective value at epoch t=6 is 0.4607094746790613\n",
            "Objective value at epoch t=7 is 0.459404522997051\n",
            "Objective value at epoch t=8 is 0.4586028039439892\n",
            "Objective value at epoch t=9 is 0.4582901827275162\n",
            "Objective value at epoch t=10 is 0.4588281368241501\n",
            "Objective value at epoch t=11 is 0.4577514826165662\n",
            "Objective value at epoch t=12 is 0.4577524189001626\n",
            "Objective value at epoch t=13 is 0.45755579932022883\n",
            "Objective value at epoch t=14 is 0.45750363477800143\n",
            "Objective value at epoch t=15 is 0.457168571233262\n",
            "Objective value at epoch t=16 is 0.45707024245889133\n",
            "Objective value at epoch t=17 is 0.4570599118060336\n",
            "Objective value at epoch t=18 is 0.4567004998820782\n",
            "Objective value at epoch t=19 is 0.4567716777775829\n",
            "Objective value at epoch t=20 is 0.4567700265791137\n",
            "Objective value at epoch t=21 is 0.4565918391503341\n",
            "Objective value at epoch t=22 is 0.4564991599801448\n",
            "Objective value at epoch t=23 is 0.4566054786616638\n",
            "Objective value at epoch t=24 is 0.45636900439708306\n",
            "Objective value at epoch t=25 is 0.4564247187989838\n",
            "Objective value at epoch t=26 is 0.4563010839178788\n",
            "Objective value at epoch t=27 is 0.4564483330261896\n",
            "Objective value at epoch t=28 is 0.4563790407179516\n",
            "Objective value at epoch t=29 is 0.4563341036773643\n",
            "Objective value at epoch t=30 is 0.4563525133825304\n",
            "Objective value at epoch t=31 is 0.456233070533287\n",
            "Objective value at epoch t=32 is 0.45619275664446446\n",
            "Objective value at epoch t=33 is 0.45617625639814874\n",
            "Objective value at epoch t=34 is 0.4561578245752185\n",
            "Objective value at epoch t=35 is 0.456116633072707\n",
            "Objective value at epoch t=36 is 0.45612575617302786\n",
            "Objective value at epoch t=37 is 0.456136284523146\n",
            "Objective value at epoch t=38 is 0.4561250956684792\n",
            "Objective value at epoch t=39 is 0.4561279907824679\n",
            "Objective value at epoch t=40 is 0.4560751747743043\n",
            "Objective value at epoch t=41 is 0.45609144767646914\n",
            "Objective value at epoch t=42 is 0.4560826471445414\n",
            "Objective value at epoch t=43 is 0.45604208088663806\n",
            "Objective value at epoch t=44 is 0.4560714509544591\n",
            "Objective value at epoch t=45 is 0.45604864491154923\n",
            "Objective value at epoch t=46 is 0.4560222474794976\n",
            "Objective value at epoch t=47 is 0.4560131807404838\n",
            "Objective value at epoch t=48 is 0.45603514270135087\n",
            "Objective value at epoch t=49 is 0.456014323642146\n",
            "Objective value at epoch t=50 is 0.456012134741135\n",
            "Objective value at epoch t=51 is 0.45601137054454\n",
            "Objective value at epoch t=52 is 0.45601066480227626\n",
            "Objective value at epoch t=53 is 0.45599276420565876\n",
            "Objective value at epoch t=54 is 0.4559991816729868\n",
            "Objective value at epoch t=55 is 0.45599647912135843\n",
            "Objective value at epoch t=56 is 0.456006929942898\n",
            "Objective value at epoch t=57 is 0.45599376318838913\n",
            "Objective value at epoch t=58 is 0.4559948123636053\n",
            "Objective value at epoch t=59 is 0.4559887517349237\n",
            "Objective value at epoch t=60 is 0.4559922365861978\n",
            "Objective value at epoch t=61 is 0.45598506340637357\n",
            "Objective value at epoch t=62 is 0.45599240927778084\n",
            "Objective value at epoch t=63 is 0.4559828822188611\n",
            "Objective value at epoch t=64 is 0.45598605625205424\n",
            "Objective value at epoch t=65 is 0.4559878350969596\n",
            "Objective value at epoch t=66 is 0.45598313736687784\n",
            "Objective value at epoch t=67 is 0.4559800393460948\n",
            "Objective value at epoch t=68 is 0.4559801928571601\n",
            "Objective value at epoch t=69 is 0.45598008424623887\n",
            "Objective value at epoch t=70 is 0.45597803132375275\n",
            "Objective value at epoch t=71 is 0.4559794876335051\n",
            "Objective value at epoch t=72 is 0.45597741889829446\n",
            "Objective value at epoch t=73 is 0.4559780950423303\n",
            "Objective value at epoch t=74 is 0.4559781310435363\n",
            "Objective value at epoch t=75 is 0.4559778490126221\n",
            "Objective value at epoch t=76 is 0.4559762706889428\n",
            "Objective value at epoch t=77 is 0.45597747592231863\n",
            "Objective value at epoch t=78 is 0.4559772565404997\n",
            "Objective value at epoch t=79 is 0.4559759800546012\n",
            "Objective value at epoch t=80 is 0.4559768123949528\n",
            "Objective value at epoch t=81 is 0.45597585862400286\n",
            "Objective value at epoch t=82 is 0.45597579886452966\n",
            "Objective value at epoch t=83 is 0.45597604842676437\n",
            "Objective value at epoch t=84 is 0.4559753949373529\n",
            "Objective value at epoch t=85 is 0.4559750449369327\n",
            "Objective value at epoch t=86 is 0.4559751953625126\n",
            "Objective value at epoch t=87 is 0.45597492773968823\n",
            "Objective value at epoch t=88 is 0.45597486625155287\n",
            "Objective value at epoch t=89 is 0.4559747235385293\n",
            "Objective value at epoch t=90 is 0.45597456222566607\n",
            "Objective value at epoch t=91 is 0.45597453091349094\n",
            "Objective value at epoch t=92 is 0.4559744465545011\n",
            "Objective value at epoch t=93 is 0.45597447538763686\n",
            "Objective value at epoch t=94 is 0.4559744431723485\n",
            "Objective value at epoch t=95 is 0.4559743094884869\n",
            "Objective value at epoch t=96 is 0.4559742267419775\n",
            "Objective value at epoch t=97 is 0.45597413097474304\n",
            "Objective value at epoch t=98 is 0.4559742208132513\n",
            "Objective value at epoch t=99 is 0.45597406629043336\n"
          ]
        }
      ],
      "source": [
        "# MB-SGD with batch size b=64\n",
        "lam = 1E-6 # do not change\n",
        "b = 64 # do not change\n",
        "stepsize = 0.4 # you must tune this parameter\n",
        "\n",
        "w, objvals_mbsgd64 = mb_sgd(x_train, y_train, lam, b, stepsize)"
      ]
    },
    {
      "cell_type": "markdown",
      "metadata": {
        "id": "m8GkkFlx43tg"
      },
      "source": [
        "# 7. Plot and compare GD, SGD, and MB-SGD"
      ]
    },
    {
      "cell_type": "markdown",
      "metadata": {
        "id": "v3cy9FRF43tg"
      },
      "source": [
        "You are required to compare the following algorithms:\n",
        "\n",
        "- Gradient descent (GD)\n",
        "\n",
        "- SGD\n",
        "\n",
        "- MB-SGD with b=8\n",
        "\n",
        "- MB-SGD with b=64\n",
        "\n",
        "Follow the code in Section 4 to plot ```objective function value``` against ```epochs```. There should be four curves in the plot; each curve corresponds to one algorithm."
      ]
    },
    {
      "cell_type": "markdown",
      "metadata": {
        "id": "5FMkgqrI43tg"
      },
      "source": [
        "Hint: Logistic regression with $\\ell_2$-norm regularization is a strongly convex optimization problem. All the algorithms will converge to the same solution. **In the end, the ``objective function value`` of the 4 algorithms will be the same. If not the same, your implementation must be wrong. Do NOT submit wrong code and wrong result!**"
      ]
    },
    {
      "cell_type": "code",
      "execution_count": 27,
      "metadata": {
        "colab": {
          "base_uri": "https://localhost:8080/",
          "height": 463
        },
        "id": "WB5BuqP243tg",
        "outputId": "2b70f274-5f08-4cba-8117-099bb9621cd2"
      },
      "outputs": [
        {
          "output_type": "display_data",
          "data": {
            "text/plain": [
              "<Figure size 640x480 with 1 Axes>"
            ],
            "image/png": "[encoded data removed]"
          },
          "metadata": {}
        }
      ],
      "source": [
        "epochs_gd = range(len(objvals_gd))\n",
        "epochs_sgd = range(len(objvals_sgd))\n",
        "epochs_mbsgd8 = range(len(objvals_mbsgd8))\n",
        "epochs_mbsgd64 = range(len(objvals_mbsgd64))\n",
        "\n",
        "linegd, = plt.plot(epochs_gd, objvals_gd, '--b', linewidth=2)\n",
        "linesgd, = plt.plot(epochs_sgd, objvals_sgd, '-r', linewidth=2)\n",
        "linegd8, = plt.plot(epochs_mbsgd8, objvals_mbsgd8, '-y', linewidth=2)\n",
        "linegd64, = plt.plot(epochs_mbsgd64, objvals_mbsgd64, '--c', linewidth=2)\n",
        "\n",
        "plt.xlabel('Epochs', fontsize=20)\n",
        "plt.ylabel('Objective Function Value', fontsize=20)\n",
        "plt.legend([linegd, linesgd, linegd8, linegd64], ['GD', 'SGD', 'MB_SGD (b=8)', 'MB_SGD (b=64)'], fontsize=20)\n",
        "plt.show()"
      ]
    },
    {
      "cell_type": "markdown",
      "metadata": {
        "id": "OHpm8QTt43tg"
      },
      "source": []
    }
  ],
  "metadata": {
    "kernelspec": {
      "display_name": "Python 3",
      "language": "python",
      "name": "python3"
    },
    "language_info": {
      "codemirror_mode": {
        "name": "ipython",
        "version": 3
      },
      "file_extension": ".py",
      "mimetype": "text/x-python",
      "name": "python",
      "nbconvert_exporter": "python",
      "pygments_lexer": "ipython3",
      "version": "3.8.3"
    },
    "colab": {
      "provenance": [],
      "include_colab_link": true
    }
  },
  "nbformat": 4,
  "nbformat_minor": 0
}